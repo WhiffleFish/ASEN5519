{
 "cells": [
  {
   "cell_type": "code",
   "execution_count": 1,
   "metadata": {},
   "outputs": [],
   "source": [
    "import timeit\n",
    "import tqdm\n",
    "import seaborn as sns\n",
    "import pandas as pd\n",
    "%run P3Utils.py"
   ]
  },
  {
   "cell_type": "code",
   "execution_count": 2,
   "metadata": {},
   "outputs": [],
   "source": [
    "def benchmark(env):\n",
    "    times = []\n",
    "    distances = []\n",
    "    for _ in tqdm(range(100)):\n",
    "        RRT = RRTSolver(*load_env(env), pgoal=0.05, eps=0.25, max_iter=5000, step_size=0.5)\n",
    "        tstart = timeit.default_timer()\n",
    "        RRT.search()\n",
    "        tend = timeit.default_timer()\n",
    "        dt = tend-tstart\n",
    "        \n",
    "        times.append(dt)\n",
    "        distances.append(RRT.distance)\n",
    "        \n",
    "    return distances, times"
   ]
  },
  {
   "cell_type": "code",
   "execution_count": 3,
   "metadata": {},
   "outputs": [
    {
     "name": "stderr",
     "output_type": "stream",
     "text": [
      "100%|██████████| 100/100 [00:08<00:00, 11.31it/s]\n"
     ]
    }
   ],
   "source": [
    "Adistances, Atimes = benchmark('A')"
   ]
  },
  {
   "cell_type": "code",
   "execution_count": 4,
   "metadata": {},
   "outputs": [
    {
     "name": "stderr",
     "output_type": "stream",
     "text": [
      "100%|██████████| 100/100 [02:52<00:00,  1.72s/it]\n"
     ]
    }
   ],
   "source": [
    "B1distances, B1times = benchmark('B1')"
   ]
  },
  {
   "cell_type": "code",
   "execution_count": 5,
   "metadata": {},
   "outputs": [
    {
     "name": "stderr",
     "output_type": "stream",
     "text": [
      "100%|██████████| 100/100 [09:12<00:00,  5.52s/it]\n"
     ]
    }
   ],
   "source": [
    "B2distances, B2times = benchmark('B2')"
   ]
  },
  {
   "cell_type": "code",
   "execution_count": 6,
   "metadata": {},
   "outputs": [],
   "source": [
    "df = pd.DataFrame({\n",
    "    'distance':Adistances + B1distances + B2distances,\n",
    "    'time': Atimes + B1times + B2times,\n",
    "    'env': ['A']*100 + ['B1']*100 + ['B2']*100\n",
    "})"
   ]
  },
  {
   "cell_type": "code",
   "execution_count": 7,
   "metadata": {},
   "outputs": [
    {
     "data": {
      "text/plain": [
       "Text(0.5, 0.98, 'RRT Benchmark')"
      ]
     },
     "execution_count": 7,
     "metadata": {},
     "output_type": "execute_result"
    },
    {
     "data": {
      "image/png": "[encoded data removed]",
      "text/plain": [
       "<Figure size 1080x720 with 2 Axes>"
      ]
     },
     "metadata": {
      "needs_background": "light"
     },
     "output_type": "display_data"
    }
   ],
   "source": [
    "fig, axes = plt.subplots(1,2, figsize=(15,10))\n",
    "sns.boxplot(x='env',y='distance',data=df, ax=axes[0])\n",
    "sns.boxplot(x='env',y='time',data=df, ax=axes[1])\n",
    "axes[0].set_xlabel(\"Workspace ID\")\n",
    "axes[0].set_ylabel(\"Path Distance\")\n",
    "axes[1].set_xlabel(\"Workspace ID\")\n",
    "axes[1].set_ylabel(\"Computation Time\")\n",
    "fig.suptitle(\"RRT Benchmark\", fontsize=20)"
   ]
  },
  {
   "cell_type": "code",
   "execution_count": 9,
   "metadata": {},
   "outputs": [
    {
     "data": {
      "text/plain": [
       "0"
      ]
     },
     "execution_count": 9,
     "metadata": {},
     "output_type": "execute_result"
    }
   ],
   "source": [
    "df['distance'].isnull().sum()"
   ]
  }
 ],
 "metadata": {
  "kernelspec": {
   "display_name": "Python 3",
   "language": "python",
   "name": "python3"
  },
  "language_info": {
   "codemirror_mode": {
    "name": "ipython",
    "version": 3
   },
   "file_extension": ".py",
   "mimetype": "text/x-python",
   "name": "python",
   "nbconvert_exporter": "python",
   "pygments_lexer": "ipython3",
   "version": "3.7.9"
  }
 },
 "nbformat": 4,
 "nbformat_minor": 4
}
