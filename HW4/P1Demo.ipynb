{
 "cells": [
  {
   "cell_type": "code",
   "execution_count": 1,
   "metadata": {},
   "outputs": [],
   "source": [
    "%run P1Utils.py"
   ]
  },
  {
   "cell_type": "code",
   "execution_count": 2,
   "metadata": {},
   "outputs": [
    {
     "name": "stdout",
     "output_type": "stream",
     "text": [
      "Path: ['start', 'C', 'K', 'goal']\n",
      "Number of iterations: 12\n",
      "Path Length: 4\n"
     ]
    }
   ],
   "source": [
    "DG = build_P1_graph()\n",
    "sequence, n_iter, path_length = a_star(DG, heuristic=False)\n",
    "print(\"Path:\",sequence)\n",
    "print(\"Number of iterations:\", n_iter)\n",
    "print(\"Path Length:\",path_length)"
   ]
  }
 ],
 "metadata": {
  "kernelspec": {
   "display_name": "Python 3",
   "language": "python",
   "name": "python3"
  },
  "language_info": {
   "codemirror_mode": {
    "name": "ipython",
    "version": 3
   },
   "file_extension": ".py",
   "mimetype": "text/x-python",
   "name": "python",
   "nbconvert_exporter": "python",
   "pygments_lexer": "ipython3",
   "version": "3.7.9"
  }
 },
 "nbformat": 4,
 "nbformat_minor": 4
}
