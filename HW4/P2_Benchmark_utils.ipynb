{
 "cells": [
  {
   "cell_type": "code",
   "execution_count": 1,
   "metadata": {},
   "outputs": [],
   "source": [
    "%run P2Utils.py"
   ]
  },
  {
   "cell_type": "code",
   "execution_count": 11,
   "metadata": {},
   "outputs": [],
   "source": [
    "benchmark_vars_A = [(200, 0.5), (200, 1), (200, 1.5), (200, 2), (500, 0.5), (500, 1), (500, 1.5), (500, 2)]\n",
    "benchmark_vars_B = [(200, 1), (200, 2), (500, 1), (500, 2), (1000, 1), (1000, 2)]\n",
    "def benchmark(env,n,r,smoothing=False):\n",
    "    times = []\n",
    "    distances = []\n",
    "    for _ in tqdm(range(100)):\n",
    "        PRM = PRMSolver(*load_env(env))\n",
    "        tstart = timeit.default_timer()\n",
    "        \n",
    "        PRM.sample(r,n,bar=False)\n",
    "        if smoothing:\n",
    "            PRM.smooth_path(100)\n",
    "        \n",
    "        tend = timeit.default_timer()\n",
    "        dt = tend-tstart\n",
    "        \n",
    "        times.append(dt)\n",
    "        distances.append(PRM.distance)\n",
    "        \n",
    "    return distances, times"
   ]
  },
  {
   "cell_type": "code",
   "execution_count": 12,
   "metadata": {},
   "outputs": [],
   "source": [
    "import pickle"
   ]
  },
  {
   "cell_type": "code",
   "execution_count": 13,
   "metadata": {},
   "outputs": [
    {
     "name": "stderr",
     "output_type": "stream",
     "text": [
      "100%|██████████| 100/100 [01:11<00:00,  1.41it/s]\n",
      "100%|██████████| 100/100 [02:07<00:00,  1.27s/it]\n",
      "100%|██████████| 100/100 [07:10<00:00,  4.31s/it]\n",
      "100%|██████████| 100/100 [14:04<00:00,  8.45s/it]\n",
      "100%|██████████| 100/100 [31:19<00:00, 18.79s/it]\n",
      "100%|██████████| 100/100 [58:39<00:00, 35.20s/it]\n",
      "100%|██████████| 100/100 [01:09<00:00,  1.44it/s]\n",
      "100%|██████████| 100/100 [02:07<00:00,  1.27s/it]\n",
      "100%|██████████| 100/100 [07:35<00:00,  4.55s/it]\n",
      "100%|██████████| 100/100 [14:23<00:00,  8.64s/it]\n",
      "100%|██████████| 100/100 [28:24<00:00, 17.04s/it]\n",
      "100%|██████████| 100/100 [54:10<00:00, 32.51s/it]\n"
     ]
    }
   ],
   "source": [
    "ns_results_B1 = [{'dist':[], 'time':[]} for i in range(len(benchmark_vars_B))] \n",
    "s_results_B1 = [{'dist':[], 'time':[]} for i in range(len(benchmark_vars_B))] \n",
    "\n",
    "for i,(n,r) in enumerate(benchmark_vars_B):\n",
    "    distances, time = benchmark('B1',n,r,smoothing=False)\n",
    "    ns_results_B1[i]['dist'] = distances\n",
    "    ns_results_B1[i]['time'] = time\n",
    "\n",
    "for i,(n,r) in enumerate(benchmark_vars_B):\n",
    "    distances, time = benchmark('B1',n,r,smoothing=True)\n",
    "    s_results_B1[i]['dist'] = distances\n",
    "    s_results_B1[i]['time'] = time\n",
    "    \n",
    "pickle.dump(ns_results_B1,open('nonsmooth_benchmark_B1.p','wb'))\n",
    "pickle.dump(s_results_B1,open('smooth_benchmark_B1.p','wb'))"
   ]
  },
  {
   "cell_type": "code",
   "execution_count": null,
   "metadata": {},
   "outputs": [],
   "source": []
  }
 ],
 "metadata": {
  "kernelspec": {
   "display_name": "Python 3",
   "language": "python",
   "name": "python3"
  },
  "language_info": {
   "codemirror_mode": {
    "name": "ipython",
    "version": 3
   },
   "file_extension": ".py",
   "mimetype": "text/x-python",
   "name": "python",
   "nbconvert_exporter": "python",
   "pygments_lexer": "ipython3",
   "version": "3.7.9"
  }
 },
 "nbformat": 4,
 "nbformat_minor": 4
}
