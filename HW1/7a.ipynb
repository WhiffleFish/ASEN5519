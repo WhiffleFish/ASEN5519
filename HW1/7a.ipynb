{
 "cells": [
  {
   "cell_type": "markdown",
   "metadata": {},
   "source": [
    "# Algorithmic Motion Planning HW1 - Problem 7a\n",
    "\n",
    "## Questions\n",
    "- Can move diagonally?  \n",
    "    - Why YES might be easier\n",
    "        - If M-line relative heading is 45°, can move diagonally as opposed to choosing between up and down\n",
    "    - Why NO might be easier\n",
    "        - Heading determined by current_pos - prev_pos\n",
    "        - Based on current heading, LEFT heading = current_heading + 90°"
   ]
  },
  {
   "cell_type": "code",
   "execution_count": 1,
   "metadata": {},
   "outputs": [],
   "source": [
    "import numpy as np\n",
    "import matplotlib.pyplot as plt\n",
    "import time\n",
    "import logging\n",
    "%run utils.py\n",
    "%run bugs.py"
   ]
  },
  {
   "cell_type": "code",
   "execution_count": 2,
   "metadata": {},
   "outputs": [
    {
     "data": {
      "text/plain": [
       "[<matplotlib.lines.Line2D at 0x11dc8c690>]"
      ]
     },
     "execution_count": 2,
     "metadata": {},
     "output_type": "execute_result"
    },
    {
     "data": {
      "image/png": "[encoded data removed]",
      "text/plain": [
       "<Figure size 864x504 with 1 Axes>"
      ]
     },
     "metadata": {
      "needs_background": "light"
     },
     "output_type": "display_data"
    }
   ],
   "source": [
    "WO1 = [(1,1),(2,1),(2,5),(1,5)]\n",
    "WO2 = [(3,4),(4,4),(4,12),(3,12)]\n",
    "WO3 = [(3,12),(12,12),(12,13),(3,13)]\n",
    "WO4 = [(12,5),(13,5),(13,13,),(12,13)]\n",
    "WO5 = [(6,5),(12,5),(12,6),(6,6)]\n",
    "qstart = (0,0)\n",
    "qgoal = (10,10)\n",
    "\n",
    "obstacles = [WO1, WO2, WO3, WO4, WO5]\n",
    "\n",
    "W = np.zeros((15,15))\n",
    "\n",
    "for obs in obstacles:\n",
    "    xs = sorted(list(set([coord[0] for coord in obs])))\n",
    "    ys = sorted(list(set([coord[1] for coord in obs])))\n",
    "    \n",
    "    assert (len(xs),len(ys)) == (2,2)\n",
    "    \n",
    "    W[xs[0]:xs[1],ys[0]:ys[1]] = 1\n",
    "\n",
    "fig = plt.figure(figsize=(12,7))\n",
    "plt.imshow(W.T,cmap='gray_r', origin='lower')\n",
    "plt.plot([0,10],[0,10],'r--')"
   ]
  },
  {
   "cell_type": "code",
   "execution_count": 3,
   "metadata": {},
   "outputs": [
    {
     "name": "stderr",
     "output_type": "stream",
     "text": [
      "INFO:root:Goal Reached\n"
     ]
    }
   ],
   "source": [
    "path = BUG1(np.array(qstart),np.array(qgoal),W)"
   ]
  },
  {
   "cell_type": "code",
   "execution_count": 4,
   "metadata": {},
   "outputs": [
    {
     "data": {
      "text/plain": [
       "array([[ 0,  0],\n",
       "       [ 0,  1],\n",
       "       [ 0,  2],\n",
       "       [ 0,  3],\n",
       "       [ 0,  4],\n",
       "       [ 0,  5],\n",
       "       [ 1,  5],\n",
       "       [ 2,  5],\n",
       "       [ 2,  4],\n",
       "       [ 2,  3],\n",
       "       [ 2,  2],\n",
       "       [ 2,  1],\n",
       "       [ 2,  0],\n",
       "       [ 1,  0],\n",
       "       [ 0,  0],\n",
       "       [ 0,  1],\n",
       "       [ 0,  2],\n",
       "       [ 0,  3],\n",
       "       [ 0,  4],\n",
       "       [ 0,  5],\n",
       "       [ 1,  5],\n",
       "       [ 2,  5],\n",
       "       [ 2,  6],\n",
       "       [ 2,  7],\n",
       "       [ 2,  8],\n",
       "       [ 2,  9],\n",
       "       [ 2, 10],\n",
       "       [ 2, 11],\n",
       "       [ 2, 12],\n",
       "       [ 2, 13],\n",
       "       [ 3, 13],\n",
       "       [ 4, 13],\n",
       "       [ 5, 13],\n",
       "       [ 6, 13],\n",
       "       [ 7, 13],\n",
       "       [ 8, 13],\n",
       "       [ 9, 13],\n",
       "       [10, 13],\n",
       "       [11, 13],\n",
       "       [12, 13],\n",
       "       [13, 13],\n",
       "       [13, 12],\n",
       "       [13, 11],\n",
       "       [13, 10],\n",
       "       [13,  9],\n",
       "       [13,  8],\n",
       "       [13,  7],\n",
       "       [13,  6],\n",
       "       [13,  5],\n",
       "       [13,  4],\n",
       "       [12,  4],\n",
       "       [11,  4],\n",
       "       [10,  4],\n",
       "       [ 9,  4],\n",
       "       [ 8,  4],\n",
       "       [ 7,  4],\n",
       "       [ 6,  4],\n",
       "       [ 5,  4],\n",
       "       [ 5,  5],\n",
       "       [ 5,  6],\n",
       "       [ 6,  6],\n",
       "       [ 7,  6],\n",
       "       [ 8,  6],\n",
       "       [ 9,  6],\n",
       "       [10,  6],\n",
       "       [11,  6],\n",
       "       [11,  7],\n",
       "       [11,  8],\n",
       "       [11,  9],\n",
       "       [11, 10],\n",
       "       [11, 11],\n",
       "       [10, 11],\n",
       "       [ 9, 11],\n",
       "       [ 8, 11],\n",
       "       [ 7, 11],\n",
       "       [ 6, 11],\n",
       "       [ 5, 11],\n",
       "       [ 4, 11],\n",
       "       [ 4, 10],\n",
       "       [ 4,  9],\n",
       "       [ 4,  8],\n",
       "       [ 4,  7],\n",
       "       [ 4,  6],\n",
       "       [ 4,  5],\n",
       "       [ 4,  4],\n",
       "       [ 4,  3],\n",
       "       [ 3,  3],\n",
       "       [ 2,  3],\n",
       "       [ 2,  4],\n",
       "       [ 2,  5],\n",
       "       [ 2,  4],\n",
       "       [ 2,  3],\n",
       "       [ 3,  3],\n",
       "       [ 4,  3],\n",
       "       [ 4,  4],\n",
       "       [ 4,  5],\n",
       "       [ 4,  6],\n",
       "       [ 4,  7],\n",
       "       [ 4,  8],\n",
       "       [ 4,  9],\n",
       "       [ 4, 10],\n",
       "       [ 4, 11],\n",
       "       [ 5, 11],\n",
       "       [ 6, 11],\n",
       "       [ 7, 11],\n",
       "       [ 8, 11],\n",
       "       [ 9, 11],\n",
       "       [10, 11],\n",
       "       [10, 10]])"
      ]
     },
     "execution_count": 4,
     "metadata": {},
     "output_type": "execute_result"
    }
   ],
   "source": [
    "path"
   ]
  },
  {
   "cell_type": "code",
   "execution_count": 5,
   "metadata": {},
   "outputs": [
    {
     "data": {
      "text/plain": [
       "(<Figure size 864x504 with 2 Axes>,\n",
       " <matplotlib.axes._subplots.AxesSubplot at 0x122702690>)"
      ]
     },
     "execution_count": 5,
     "metadata": {},
     "output_type": "execute_result"
    },
    {
     "data": {
      "image/png": "[encoded data removed]",
      "text/plain": [
       "<Figure size 864x504 with 2 Axes>"
      ]
     },
     "metadata": {
      "needs_background": "light"
     },
     "output_type": "display_data"
    }
   ],
   "source": [
    "plot_path(path, W)"
   ]
  },
  {
   "cell_type": "code",
   "execution_count": null,
   "metadata": {},
   "outputs": [],
   "source": []
  },
  {
   "cell_type": "code",
   "execution_count": null,
   "metadata": {},
   "outputs": [],
   "source": []
  },
  {
   "cell_type": "code",
   "execution_count": null,
   "metadata": {},
   "outputs": [],
   "source": []
  },
  {
   "cell_type": "code",
   "execution_count": null,
   "metadata": {},
   "outputs": [],
   "source": []
  },
  {
   "cell_type": "code",
   "execution_count": null,
   "metadata": {},
   "outputs": [],
   "source": []
  },
  {
   "cell_type": "code",
   "execution_count": null,
   "metadata": {},
   "outputs": [],
   "source": []
  },
  {
   "cell_type": "code",
   "execution_count": null,
   "metadata": {},
   "outputs": [],
   "source": []
  },
  {
   "cell_type": "code",
   "execution_count": 3,
   "metadata": {},
   "outputs": [
    {
     "name": "stderr",
     "output_type": "stream",
     "text": [
      "INFO:root:Goal Reached\n"
     ]
    }
   ],
   "source": [
    "pos = np.array([0,0])\n",
    "qgoal = np.array([10,10])\n",
    "move_history = pos.copy().reshape(1,-1)\n",
    "\n",
    "while True:\n",
    "    # Begin MTG Behavior\n",
    "    while (pos != qgoal).any():\n",
    "        move = MTG_move(pos, qgoal)\n",
    "        if isMoveValid(pos, move, W):\n",
    "            pos += move\n",
    "            move_history = add_pos(move_history, pos)\n",
    "        else:\n",
    "            break\n",
    "        \n",
    "    if (pos == qgoal).all():\n",
    "        logging.info(\"Goal Reached\")\n",
    "        break\n",
    "    \n",
    "    # Begin Boundary Following Behavior\n",
    "    logging.debug(f\"BEGIN BOUNDARY FOLLOWING -- POS : {pos}\\n\")\n",
    "    BF_history = pos.copy().reshape(1,-1)\n",
    "    BF_distances = np.array([distance(pos, qgoal)])\n",
    "    pos += first_contact_move(pos, qgoal, W)\n",
    "    move_history = add_pos(move_history, pos)\n",
    "    BF_history = add_pos(BF_history, pos)\n",
    "    BF_distances = np.append(BF_distances,distance(pos, qgoal))\n",
    "    \n",
    "    while (pos != BF_history[0]).any() and (pos != qgoal).any():\n",
    "        move = BF_move(pos, BF_history, qgoal, W)\n",
    "        pos += move\n",
    "        move_history = add_pos(move_history, pos)\n",
    "        BF_history = add_pos(BF_history,pos)\n",
    "        BF_distances = np.append(BF_distances,distance(pos, qgoal))\n",
    "    logging.debug(\"END BOUNDARY FOLLOWING\\n\")\n",
    "    if (pos==qgoal).all():\n",
    "        logging.info(\"Goal Reached\")\n",
    "        break\n",
    "    \n",
    "    logging.debug(\"BEGIN QL PATH\\n\")\n",
    "    index, qL = find_ql(BF_history, BF_distances, hist_loc=True)\n",
    "    logging.debug(f\"QL = {qL}\")\n",
    "    ql_path = shortest_path_to_ql(BF_history, BF_distances)\n",
    "    move_history = np.vstack([move_history,ql_path])\n",
    "    pos = move_history.copy()[-1]\n",
    "    logging.debug(f\"END QL PATH -- POS : {pos}\\n\\n\")"
   ]
  },
  {
   "cell_type": "code",
   "execution_count": 4,
   "metadata": {},
   "outputs": [
    {
     "data": {
      "text/plain": [
       "<matplotlib.collections.PathCollection at 0x11a6bd990>"
      ]
     },
     "execution_count": 4,
     "metadata": {},
     "output_type": "execute_result"
    },
    {
     "data": {
      "image/png": "[encoded data removed]",
      "text/plain": [
       "<Figure size 864x504 with 1 Axes>"
      ]
     },
     "metadata": {
      "needs_background": "light"
     },
     "output_type": "display_data"
    }
   ],
   "source": [
    "fig = plt.figure(figsize=(12,7))\n",
    "plt.imshow(W.T,cmap='gray_r', origin='lower')\n",
    "plt.plot([0,10],[0,10],'r--')\n",
    "plt.plot(np.array(move_history)[:,0],np.array(move_history)[:,1])\n",
    "rgbs = plt.cm.get_cmap('coolwarm')(np.linspace(0, 1, move_history.shape[0]))\n",
    "plt.scatter(np.array(move_history)[:,0],np.array(move_history)[:,1], c=rgbs)"
   ]
  },
  {
   "cell_type": "code",
   "execution_count": null,
   "metadata": {},
   "outputs": [],
   "source": []
  },
  {
   "cell_type": "code",
   "execution_count": null,
   "metadata": {},
   "outputs": [],
   "source": []
  },
  {
   "cell_type": "code",
   "execution_count": null,
   "metadata": {},
   "outputs": [],
   "source": []
  },
  {
   "cell_type": "code",
   "execution_count": null,
   "metadata": {},
   "outputs": [],
   "source": []
  },
  {
   "cell_type": "markdown",
   "metadata": {},
   "source": [
    "# Bug 2"
   ]
  },
  {
   "cell_type": "code",
   "execution_count": 59,
   "metadata": {},
   "outputs": [
    {
     "name": "stderr",
     "output_type": "stream",
     "text": [
      "INFO:root:Goal Reached\n"
     ]
    }
   ],
   "source": [
    "qstart = np.array([0,0])\n",
    "pos = qstart.copy()\n",
    "qgoal = np.array([10,10])\n",
    "move_history = pos.copy().reshape(1,-1)\n",
    "m_line_coords = get_m_coords(qstart, qgoal)\n",
    "\n",
    "while True:\n",
    "    while (pos != qgoal).any():\n",
    "        move = MTG_move(pos, qgoal)\n",
    "        if isMoveValid(pos, move, W):\n",
    "            pos += move\n",
    "            move_history = add_pos(move_history, pos)\n",
    "        else:\n",
    "            break\n",
    "            \n",
    "    if (pos == qgoal).all():\n",
    "        logging.info(\"Goal Reached\")\n",
    "        break\n",
    "    \n",
    "    # Begin Boundary Following Behavior\n",
    "    BF_history = pos.copy().reshape(1,-1)\n",
    "    d_h = distance(pos, qgoal) # hit distance\n",
    "    logging.debug(f\"BEGIN BOUNDARY FOLLOWING -- POS : {pos}\\n\")\n",
    "    pos += first_contact_move(pos, qgoal, W)\n",
    "    move_history = add_pos(move_history, pos)\n",
    "    BF_history = add_pos(BF_history, pos)\n",
    "    \n",
    "    while (pos != qgoal).any():\n",
    "        if list(pos) in list(map(list,m_line_coords)):\n",
    "            if distance(pos, qgoal) < d_h:\n",
    "                break\n",
    "        \n",
    "        move = BF_move(pos, BF_history, qgoal, W)\n",
    "        pos += move\n",
    "        move_history = add_pos(move_history, pos)\n",
    "        BF_history = add_pos(BF_history,pos)\n",
    "        "
   ]
  },
  {
   "cell_type": "code",
   "execution_count": 60,
   "metadata": {},
   "outputs": [
    {
     "data": {
      "text/plain": [
       "<matplotlib.collections.PathCollection at 0x121241150>"
      ]
     },
     "execution_count": 60,
     "metadata": {},
     "output_type": "execute_result"
    },
    {
     "data": {
      "image/png": "[encoded data removed]",
      "text/plain": [
       "<Figure size 864x504 with 1 Axes>"
      ]
     },
     "metadata": {
      "needs_background": "light"
     },
     "output_type": "display_data"
    }
   ],
   "source": [
    "fig = plt.figure(figsize=(12,7))\n",
    "plt.imshow(W.T,cmap='gray_r', origin='lower')\n",
    "plt.plot([0,10],[0,10],'r--')\n",
    "plt.plot(np.array(move_history)[:,0],np.array(move_history)[:,1])\n",
    "rgbs = plt.cm.get_cmap('coolwarm')(np.linspace(0, 1, move_history.shape[0]))\n",
    "plt.scatter(np.array(move_history)[:,0],np.array(move_history)[:,1], c=rgbs)"
   ]
  },
  {
   "cell_type": "code",
   "execution_count": 53,
   "metadata": {},
   "outputs": [
    {
     "data": {
      "text/plain": [
       "array([[ 0,  0],\n",
       "       [ 1,  1],\n",
       "       [ 2,  2],\n",
       "       [ 3,  3],\n",
       "       [ 4,  4],\n",
       "       [ 5,  5],\n",
       "       [ 6,  6],\n",
       "       [ 7,  7],\n",
       "       [ 8,  8],\n",
       "       [ 9,  9],\n",
       "       [10, 10]])"
      ]
     },
     "execution_count": 53,
     "metadata": {},
     "output_type": "execute_result"
    }
   ],
   "source": [
    "m_line_coords"
   ]
  },
  {
   "cell_type": "markdown",
   "metadata": {},
   "source": [
    "# Show Colormap"
   ]
  },
  {
   "cell_type": "code",
   "execution_count": 145,
   "metadata": {},
   "outputs": [],
   "source": [
    "%run utils.py\n",
    "%run bugs.py"
   ]
  },
  {
   "cell_type": "code",
   "execution_count": 146,
   "metadata": {},
   "outputs": [],
   "source": [
    "LOGGER.setLevel(logging.DEBUG)"
   ]
  },
  {
   "cell_type": "code",
   "execution_count": 147,
   "metadata": {},
   "outputs": [
    {
     "name": "stderr",
     "output_type": "stream",
     "text": [
      "DEBUG:root:BEGIN BOUNDARY FOLLOWING -- POS : [0 0]\n",
      "\n",
      "DEBUG:root:END BOUNDARY FOLLOWING\n",
      "\n",
      "DEBUG:root:BEGIN QL PATH\n",
      "\n",
      "DEBUG:root:QL = [2 5]\n",
      "DEBUG:root:QL Path: \n",
      "[[0 1]\n",
      " [0 2]\n",
      " [0 3]\n",
      " [0 4]\n",
      " [0 5]\n",
      " [1 5]\n",
      " [2 5]]\n",
      "DEBUG:root:END QL PATH -- POS : [2 5]\n",
      "\n",
      "\n",
      "DEBUG:root:BEGIN BOUNDARY FOLLOWING -- POS : [2 5]\n",
      "\n",
      "DEBUG:root:END BOUNDARY FOLLOWING\n",
      "\n",
      "DEBUG:root:BEGIN QL PATH\n",
      "\n",
      "DEBUG:root:QL = [11 10]\n",
      "DEBUG:root:QL Path: \n",
      "[[ 2  4]\n",
      " [ 2  3]\n",
      " [ 3  3]\n",
      " [ 4  3]\n",
      " [ 4  4]\n",
      " [ 4  5]\n",
      " [ 4  6]\n",
      " [ 4  7]\n",
      " [ 4  8]\n",
      " [ 4  9]\n",
      " [ 4 10]\n",
      " [ 4 11]\n",
      " [ 5 11]\n",
      " [ 6 11]\n",
      " [ 7 11]\n",
      " [ 8 11]\n",
      " [ 9 11]\n",
      " [10 11]\n",
      " [11 11]\n",
      " [11 10]]\n",
      "DEBUG:root:END QL PATH -- POS : [11 10]\n",
      "\n",
      "\n",
      "INFO:root:Goal Reached\n"
     ]
    }
   ],
   "source": [
    "path = BUG1(np.array(qstart),np.array(qgoal),W)"
   ]
  },
  {
   "cell_type": "code",
   "execution_count": 140,
   "metadata": {},
   "outputs": [
    {
     "data": {
      "image/png": "[encoded data removed]",
      "text/plain": [
       "<Figure size 864x504 with 1 Axes>"
      ]
     },
     "metadata": {
      "needs_background": "light"
     },
     "output_type": "display_data"
    }
   ],
   "source": [
    "fig, ax = plot_path(path,W)\n",
    "# ax2 = fig.add_axes([0.25,0.75,0.5,0.5])\n",
    "# gradient = np.linspace(0,1,256)\n",
    "# gradient = np.vstack([gradient, gradient])\n",
    "# ax2.imshow(gradient, cmap='viridis', aspect=1/15, extent=[0,1,0,1])\n",
    "# ax2.set_yticks([])\n",
    "# ax2.set_xticks([0,1])\n",
    "# ax2.set_xticklabels(['START', 'END'])"
   ]
  },
  {
   "cell_type": "code",
   "execution_count": 130,
   "metadata": {},
   "outputs": [
    {
     "data": {
      "text/plain": [
       "array([[5, 5]])"
      ]
     },
     "execution_count": 130,
     "metadata": {},
     "output_type": "execute_result"
    }
   ],
   "source": [
    "hist = np.array([[1,1],[2,2],[3,3],[4,4],[5,5],[1,1]])\n",
    "dists = np.array([5,4,1,1,1,6])\n",
    "shortest_path_to_ql(hist,dists)"
   ]
  },
  {
   "cell_type": "code",
   "execution_count": 135,
   "metadata": {},
   "outputs": [
    {
     "data": {
      "text/plain": [
       "array([[ 0,  0],\n",
       "       [ 0,  1],\n",
       "       [ 0,  2],\n",
       "       [ 0,  3],\n",
       "       [ 0,  4],\n",
       "       [ 0,  5],\n",
       "       [ 1,  5],\n",
       "       [ 2,  5],\n",
       "       [ 2,  4],\n",
       "       [ 2,  3],\n",
       "       [ 2,  2],\n",
       "       [ 2,  1],\n",
       "       [ 2,  0],\n",
       "       [ 1,  0],\n",
       "       [ 0,  0],\n",
       "       [ 0,  1],\n",
       "       [ 0,  2],\n",
       "       [ 0,  3],\n",
       "       [ 0,  4],\n",
       "       [ 0,  5],\n",
       "       [ 1,  5],\n",
       "       [ 2,  5],\n",
       "       [ 2,  6],\n",
       "       [ 2,  7],\n",
       "       [ 2,  8],\n",
       "       [ 2,  9],\n",
       "       [ 2, 10],\n",
       "       [ 2, 11],\n",
       "       [ 2, 12],\n",
       "       [ 2, 13],\n",
       "       [ 3, 13],\n",
       "       [ 4, 13],\n",
       "       [ 5, 13],\n",
       "       [ 6, 13],\n",
       "       [ 7, 13],\n",
       "       [ 8, 13],\n",
       "       [ 9, 13],\n",
       "       [10, 13],\n",
       "       [11, 13],\n",
       "       [12, 13],\n",
       "       [13, 13],\n",
       "       [13, 12],\n",
       "       [13, 11],\n",
       "       [13, 10],\n",
       "       [13,  9],\n",
       "       [13,  8],\n",
       "       [13,  7],\n",
       "       [13,  6],\n",
       "       [13,  5],\n",
       "       [13,  4],\n",
       "       [12,  4],\n",
       "       [11,  4],\n",
       "       [10,  4],\n",
       "       [ 9,  4],\n",
       "       [ 8,  4],\n",
       "       [ 7,  4],\n",
       "       [ 6,  4],\n",
       "       [ 5,  4],\n",
       "       [ 5,  5],\n",
       "       [ 5,  6],\n",
       "       [ 6,  6],\n",
       "       [ 7,  6],\n",
       "       [ 8,  6],\n",
       "       [ 9,  6],\n",
       "       [10,  6],\n",
       "       [11,  6],\n",
       "       [11,  7],\n",
       "       [11,  8],\n",
       "       [11,  9],\n",
       "       [11, 10],\n",
       "       [11, 11],\n",
       "       [10, 11],\n",
       "       [ 9, 11],\n",
       "       [ 8, 11],\n",
       "       [ 7, 11],\n",
       "       [ 6, 11],\n",
       "       [ 5, 11],\n",
       "       [ 4, 11],\n",
       "       [ 4, 10],\n",
       "       [ 4,  9],\n",
       "       [ 4,  8],\n",
       "       [ 4,  7],\n",
       "       [ 4,  6],\n",
       "       [ 4,  5],\n",
       "       [ 4,  4],\n",
       "       [ 4,  3],\n",
       "       [ 3,  3],\n",
       "       [ 2,  3],\n",
       "       [ 2,  4],\n",
       "       [ 2,  5],\n",
       "       [ 2,  4],\n",
       "       [ 2,  3],\n",
       "       [ 3,  3],\n",
       "       [ 4,  3],\n",
       "       [ 4,  4],\n",
       "       [ 4,  5],\n",
       "       [ 4,  6],\n",
       "       [ 4,  7],\n",
       "       [ 4,  8],\n",
       "       [ 4,  9],\n",
       "       [ 4, 10],\n",
       "       [ 4, 11],\n",
       "       [ 5, 11],\n",
       "       [ 6, 11],\n",
       "       [ 7, 11],\n",
       "       [ 8, 11],\n",
       "       [ 9, 11],\n",
       "       [10, 11],\n",
       "       [11, 11],\n",
       "       [11, 10],\n",
       "       [10, 10]])"
      ]
     },
     "execution_count": 135,
     "metadata": {},
     "output_type": "execute_result"
    }
   ],
   "source": [
    "path"
   ]
  },
  {
   "cell_type": "code",
   "execution_count": null,
   "metadata": {},
   "outputs": [],
   "source": []
  },
  {
   "cell_type": "code",
   "execution_count": null,
   "metadata": {},
   "outputs": [],
   "source": []
  },
  {
   "cell_type": "markdown",
   "metadata": {},
   "source": [
    "# Bug Algorithms\n",
    "\n",
    "## Bug 1"
   ]
  },
  {
   "cell_type": "code",
   "execution_count": 8,
   "metadata": {},
   "outputs": [],
   "source": [
    "def MTG_move_decision(pos,qgoal):\n",
    "    '''\n",
    "    Motion-to-Goal move decision\n",
    "    Make movement decisions amenable to discrete state/action space\n",
    "    \n",
    "    INPUT:\n",
    "        pos (ndarray)[2]: (x,y) Current grid position\n",
    "        qgoal (ndarray)[2]: (x,y) Goal position\n",
    "    \n",
    "    OUTPUT:\n",
    "        move (ndarray)[2]: array to increment current position\n",
    "    '''\n",
    "    if isinstance(pos,np.ndarray):\n",
    "        rel_dist = np.array(qgoal)-pos\n",
    "    else:\n",
    "        rel_dist = list(map(lambda goal,pos: goal-pos,qgoal,pos))\n",
    "    \n",
    "    theta = np.arctan2(rel_dist[1],rel_dist[0])\n",
    "    move = round(np.cos(theta)), round(np.sin(theta))\n",
    "    \n",
    "    return np.array(move)\n",
    "\n",
    "        \n",
    "def BF_move_decision(BF_hist, pos, qgoal, W, first_contact=False):\n",
    "    BF_hist = BF_hist.copy()\n",
    "    if first_contact:\n",
    "        m = MTG_move_decision(pos,qgoal)\n",
    "        assert W[tuple(pos+m)] # Ensure that next MTG move is blocked\n",
    "        heading = np.arctan2(m[1],m[0]) # DOUBLE CHECK ORDER IS CORRECT\n",
    "\n",
    "        if m.all(): # If heading diagonal, make first search heading closest 90° i.e. current_heading + 45°\n",
    "            heading += np.deg2rad(45)\n",
    "\n",
    "        for a in np.deg2rad(np.arange(0,360,90)): # Search in increments of 90° until empty space is found\n",
    "            test_move = np.round(np.array([np.cos(heading+a), np.sin(heading+a)])).astype(int)\n",
    "            if not W[tuple(pos+test_move)]: # Check if next CCW position is empty\n",
    "                return test_move\n",
    "            \n",
    "        print(\"No Valid Move\")\n",
    "        return None\n",
    "    else:\n",
    "        prev_pos = BF_hist[-2]\n",
    "        diff = pos - prev_pos\n",
    "#         logging.debug(\"Diff: \" + str(diff))\n",
    "        heading = np.arctan2(diff[1],diff[0])\n",
    "#         logging.debug(\"Heading: \" + str(np.rad2deg(heading)))\n",
    "        \n",
    "        for a in np.arange(heading-np.deg2rad(90),heading+np.deg2rad(90),np.deg2rad(90)):\n",
    "            test_move = np.round(np.array([np.cos(a),np.sin(a)])).astype(int)\n",
    "            if not W[tuple(pos+test_move)]:\n",
    "                return test_move\n",
    "        \n",
    "        print(\"No Valid Move\")\n",
    "        return None\n",
    "\n",
    "def return_to_qL(BF_hist, BF_distances):\n",
    "    BF_hist = BF_hist.copy()\n",
    "    BF_distances = BF_distances.copy()\n",
    "    qLi_index = np.argmin(BF_distances)\n",
    "    qLi = BF_hist[qLi_index]\n",
    "    \n",
    "    d1 = qLi_index+1\n",
    "    d2 = len(BF_hist) - qLi_index\n",
    "    \n",
    "    if d2 < d1:\n",
    "        path = BF_hist[qLi_index:][::-1]\n",
    "    else:\n",
    "        path = BF_hist[:qLi_index]\n",
    "    print(path)\n",
    "    return path"
   ]
  },
  {
   "cell_type": "code",
   "execution_count": 9,
   "metadata": {},
   "outputs": [
    {
     "ename": "NameError",
     "evalue": "name 'path' is not defined",
     "output_type": "error",
     "traceback": [
      "\u001b[0;31m---------------------------------------------------------------------------\u001b[0m",
      "\u001b[0;31mNameError\u001b[0m                                 Traceback (most recent call last)",
      "\u001b[0;32m<ipython-input-9-012ab3a6b187>\u001b[0m in \u001b[0;36m<module>\u001b[0;34m\u001b[0m\n\u001b[0;32m----> 1\u001b[0;31m \u001b[0mpath\u001b[0m\u001b[0;34m\u001b[0m\u001b[0;34m\u001b[0m\u001b[0m\n\u001b[0m",
      "\u001b[0;31mNameError\u001b[0m: name 'path' is not defined"
     ]
    }
   ],
   "source": [
    "path"
   ]
  },
  {
   "cell_type": "code",
   "execution_count": 128,
   "metadata": {},
   "outputs": [
    {
     "name": "stderr",
     "output_type": "stream",
     "text": [
      "DEBUG:root:\n",
      "\n",
      "MOTION TO GOAL\n",
      "\n",
      "DEBUG:root:\n",
      "\n",
      "BOUNDARY FOLLOWING\n",
      "\n",
      "DEBUG:root:[0 1]\n",
      "DEBUG:root:[0 2]\n",
      "DEBUG:root:[0 3]\n",
      "DEBUG:root:[0 4]\n",
      "DEBUG:root:[0 5]\n",
      "DEBUG:root:[1 5]\n",
      "DEBUG:root:[2 5]\n",
      "DEBUG:root:[2 4]\n",
      "DEBUG:root:[2 3]\n",
      "DEBUG:root:[2 2]\n",
      "DEBUG:root:[2 1]\n",
      "DEBUG:root:[2 0]\n",
      "DEBUG:root:[1 0]\n",
      "DEBUG:root:[0 0]\n",
      "DEBUG:root:\n",
      "EXIT BOUNDARY FOLLOWING\n",
      "DEBUG:root:---> POS: [0 0]\n",
      " HIST0: [0 0]\n",
      "DEBUG:root:BF_HIST \n",
      "[[0 0]\n",
      " [0 1]\n",
      " [0 2]\n",
      " [0 3]\n",
      " [0 4]\n",
      " [0 5]\n",
      " [1 5]\n",
      " [2 5]\n",
      " [2 4]\n",
      " [2 3]\n",
      " [2 2]\n",
      " [2 1]\n",
      " [2 0]\n",
      " [1 0]\n",
      " [0 0]]\n",
      "DEBUG:root:BF_DISTS \n",
      "[14.14213562 13.45362405 12.80624847 12.20655562 11.66190379 11.18033989\n",
      " 10.29563014  9.43398113 10.         10.63014581 11.3137085  12.04159458\n",
      " 12.80624847 13.45362405 14.14213562]\n",
      "DEBUG:root:PATH: [[0 0]\n",
      " [0 1]\n",
      " [0 2]\n",
      " [0 3]\n",
      " [0 4]\n",
      " [0 5]\n",
      " [1 5]]\n",
      "DEBUG:root:\n",
      "\n",
      "MOTION TO GOAL\n",
      "\n",
      "DEBUG:root:[2 5]\n",
      "DEBUG:root:\n",
      "\n",
      "BOUNDARY FOLLOWING\n",
      "\n",
      "DEBUG:root:[2 6]\n",
      "DEBUG:root:[2 7]\n",
      "DEBUG:root:[2 8]\n",
      "DEBUG:root:[2 9]\n",
      "DEBUG:root:[ 2 10]\n",
      "DEBUG:root:[ 2 11]\n",
      "DEBUG:root:[ 2 12]\n",
      "DEBUG:root:[ 2 13]\n",
      "DEBUG:root:[ 3 13]\n",
      "DEBUG:root:[ 4 13]\n",
      "DEBUG:root:[ 5 13]\n",
      "DEBUG:root:[ 6 13]\n",
      "DEBUG:root:[ 7 13]\n",
      "DEBUG:root:[ 8 13]\n",
      "DEBUG:root:[ 9 13]\n",
      "DEBUG:root:[10 13]\n",
      "DEBUG:root:[11 13]\n",
      "DEBUG:root:[12 13]\n",
      "DEBUG:root:[13 13]\n",
      "DEBUG:root:[13 12]\n",
      "DEBUG:root:[13 11]\n",
      "DEBUG:root:[13 10]\n",
      "DEBUG:root:[13  9]\n",
      "DEBUG:root:[13  8]\n",
      "DEBUG:root:[13  7]\n",
      "DEBUG:root:[13  6]\n",
      "DEBUG:root:[13  5]\n",
      "DEBUG:root:[13  4]\n",
      "DEBUG:root:[12  4]\n",
      "DEBUG:root:[11  4]\n",
      "DEBUG:root:[10  4]\n",
      "DEBUG:root:[9 4]\n",
      "DEBUG:root:[8 4]\n",
      "DEBUG:root:[7 4]\n",
      "DEBUG:root:[6 4]\n",
      "DEBUG:root:[5 4]\n",
      "DEBUG:root:[5 5]\n",
      "DEBUG:root:[5 6]\n",
      "DEBUG:root:[6 6]\n",
      "DEBUG:root:[7 6]\n",
      "DEBUG:root:[8 6]\n",
      "DEBUG:root:[9 6]\n",
      "DEBUG:root:[10  6]\n",
      "DEBUG:root:[11  6]\n"
     ]
    },
    {
     "name": "stdout",
     "output_type": "stream",
     "text": [
      "[[0 0]\n",
      " [0 1]\n",
      " [0 2]\n",
      " [0 3]\n",
      " [0 4]\n",
      " [0 5]\n",
      " [1 5]]\n",
      "No Valid Move\n"
     ]
    },
    {
     "ename": "TypeError",
     "evalue": "ufunc 'add' output (typecode 'O') could not be coerced to provided output parameter (typecode 'l') according to the casting rule ''same_kind''",
     "output_type": "error",
     "traceback": [
      "\u001b[0;31m---------------------------------------------------------------------------\u001b[0m",
      "\u001b[0;31mTypeError\u001b[0m                                 Traceback (most recent call last)",
      "\u001b[0;32m<ipython-input-128-ccbf7ad2dcb2>\u001b[0m in \u001b[0;36m<module>\u001b[0;34m\u001b[0m\n\u001b[1;32m     32\u001b[0m     \u001b[0mlogging\u001b[0m\u001b[0;34m.\u001b[0m\u001b[0mdebug\u001b[0m\u001b[0;34m(\u001b[0m\u001b[0;34m\"\\n\\nBOUNDARY FOLLOWING\\n\"\u001b[0m\u001b[0;34m)\u001b[0m\u001b[0;34m\u001b[0m\u001b[0;34m\u001b[0m\u001b[0m\n\u001b[1;32m     33\u001b[0m     \u001b[0;32mwhile\u001b[0m \u001b[0;34m(\u001b[0m\u001b[0mpos\u001b[0m \u001b[0;34m!=\u001b[0m \u001b[0mqgoal\u001b[0m\u001b[0;34m)\u001b[0m\u001b[0;34m.\u001b[0m\u001b[0many\u001b[0m\u001b[0;34m(\u001b[0m\u001b[0;34m)\u001b[0m\u001b[0;34m:\u001b[0m\u001b[0;34m\u001b[0m\u001b[0;34m\u001b[0m\u001b[0m\n\u001b[0;32m---> 34\u001b[0;31m         \u001b[0mpos\u001b[0m \u001b[0;34m+=\u001b[0m \u001b[0mBF_move_decision\u001b[0m\u001b[0;34m(\u001b[0m\u001b[0mBF_hist\u001b[0m\u001b[0;34m,\u001b[0m \u001b[0mpos\u001b[0m\u001b[0;34m,\u001b[0m \u001b[0mqgoal\u001b[0m\u001b[0;34m,\u001b[0m \u001b[0mW\u001b[0m\u001b[0;34m,\u001b[0m \u001b[0mfirst_contact\u001b[0m\u001b[0;34m=\u001b[0m\u001b[0mfirst_contact\u001b[0m\u001b[0;34m)\u001b[0m\u001b[0;34m\u001b[0m\u001b[0;34m\u001b[0m\u001b[0m\n\u001b[0m\u001b[1;32m     35\u001b[0m         \u001b[0mlogging\u001b[0m\u001b[0;34m.\u001b[0m\u001b[0mdebug\u001b[0m\u001b[0;34m(\u001b[0m\u001b[0mpos\u001b[0m\u001b[0;34m)\u001b[0m\u001b[0;34m\u001b[0m\u001b[0;34m\u001b[0m\u001b[0m\n\u001b[1;32m     36\u001b[0m         \u001b[0mBF_hist\u001b[0m \u001b[0;34m=\u001b[0m \u001b[0mnp\u001b[0m\u001b[0;34m.\u001b[0m\u001b[0mappend\u001b[0m\u001b[0;34m(\u001b[0m\u001b[0mBF_hist\u001b[0m\u001b[0;34m,\u001b[0m\u001b[0;34m[\u001b[0m\u001b[0mpos\u001b[0m\u001b[0;34m.\u001b[0m\u001b[0mcopy\u001b[0m\u001b[0;34m(\u001b[0m\u001b[0;34m)\u001b[0m\u001b[0;34m]\u001b[0m\u001b[0;34m,\u001b[0m \u001b[0maxis\u001b[0m\u001b[0;34m=\u001b[0m\u001b[0;36m0\u001b[0m\u001b[0;34m)\u001b[0m\u001b[0;34m\u001b[0m\u001b[0;34m\u001b[0m\u001b[0m\n",
      "\u001b[0;31mTypeError\u001b[0m: ufunc 'add' output (typecode 'O') could not be coerced to provided output parameter (typecode 'l') according to the casting rule ''same_kind''"
     ]
    }
   ],
   "source": [
    "qL = np.array(qstart)\n",
    "pos = np.array(qstart)\n",
    "qgoal = np.array(qgoal)\n",
    "\n",
    "move_hist = []\n",
    "timeout = 5\n",
    "t_start = time.time()\n",
    "while True:\n",
    "    \n",
    "    # Motion to Goal\n",
    "    logging.debug(\"\\n\\nMOTION TO GOAL\\n\")\n",
    "    while (pos != qgoal).all():\n",
    "        move = MTG_move_decision(pos, qgoal)\n",
    "        if not W[tuple(pos + move)]: # If position is not occupied by obstacle\n",
    "            pos += move\n",
    "            move_hist.append(pos.copy())\n",
    "        else:\n",
    "            break # Break if next pos is occupied by obstacle -> transition to  boundary following\n",
    "        \n",
    "        if time.time()-t_start > timeout:\n",
    "            break\n",
    "        logging.debug(pos)\n",
    "    if (pos == qgoal).all():\n",
    "        print(\"Goal Found\")\n",
    "        break\n",
    "    \n",
    "    BF_hist = np.array([pos])  # Boundary Following history\n",
    "    BF_distances = np.array([distance(pos,qgoal)])\n",
    "\n",
    "    # Boundary Following\n",
    "    first_contact = True\n",
    "    logging.debug(\"\\n\\nBOUNDARY FOLLOWING\\n\")\n",
    "    while (pos != qgoal).any():\n",
    "        pos += BF_move_decision(BF_hist, pos, qgoal, W, first_contact=first_contact)\n",
    "        logging.debug(pos)\n",
    "        BF_hist = np.append(BF_hist,[pos.copy()], axis=0)\n",
    "        move_hist.append(pos.copy())\n",
    "        BF_distances = np.append(BF_distances,distance(pos,qgoal))\n",
    "        first_contact = False\n",
    "        \n",
    "        if (pos == BF_hist[0]).all():\n",
    "            logging.debug(\"\\nEXIT BOUNDARY FOLLOWING\")\n",
    "            logging.debug(f\"---> POS: {pos}\\n HIST0: {BF_hist[0]}\")\n",
    "            break\n",
    "        \n",
    "        if time.time()-t_start > timeout:\n",
    "            logging.debug(\"TIMEOUT\")\n",
    "            break\n",
    "            \n",
    "    if (pos == qgoal).all():\n",
    "        print(\"Goal Found\")\n",
    "        break\n",
    "    \n",
    "    logging.debug('BF_HIST \\n'+str(BF_hist))\n",
    "    logging.debug('BF_DISTS \\n'+str(BF_distances))\n",
    "    # Go to qLi\n",
    "    path = return_to_qL(BF_hist, BF_distances)\n",
    "    logging.debug(f\"PATH: {path}\")\n",
    "    move_hist.extend(list(path))\n",
    "    pos = path[-1]\n",
    "    \n",
    "    if time.time()-t_start > timeout:\n",
    "        break"
   ]
  }
 ],
 "metadata": {
  "kernelspec": {
   "display_name": "Python 3",
   "language": "python",
   "name": "python3"
  },
  "language_info": {
   "codemirror_mode": {
    "name": "ipython",
    "version": 3
   },
   "file_extension": ".py",
   "mimetype": "text/x-python",
   "name": "python",
   "nbconvert_exporter": "python",
   "pygments_lexer": "ipython3",
   "version": "3.7.7"
  }
 },
 "nbformat": 4,
 "nbformat_minor": 4
}
